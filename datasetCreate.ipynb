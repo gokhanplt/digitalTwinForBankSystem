{
 "cells": [
  {
   "cell_type": "code",
   "execution_count": 4,
   "metadata": {},
   "outputs": [
    {
     "name": "stdout",
     "output_type": "stream",
     "text": [
      "Veri Seti Önizlemesi:\n",
      "   transaction_id  amount  time_of_day  terminal_id  is_fraud\n",
      "0             523   58.56            7          102         0\n",
      "1             602   63.04            1          104         0\n",
      "2             526   25.59           15          109         0\n",
      "3              31   77.78           17          104         0\n",
      "4             616   51.64           15          108         0\n"
     ]
    }
   ],
   "source": [
    "import pandas as pd\n",
    "import numpy as np\n",
    "\n",
    "# Normal işlem verisi oluşturma\n",
    "np.random.seed(42)\n",
    "num_normal_transactions = 1000\n",
    "data = {\n",
    "    'transaction_id': range(num_normal_transactions),\n",
    "    'amount': np.random.normal(loc=50, scale=15, size=num_normal_transactions).round(2),\n",
    "    'time_of_day': np.random.randint(0, 24, num_normal_transactions),\n",
    "    'terminal_id': np.random.randint(100, 110, num_normal_transactions)\n",
    "}\n",
    "normal_df = pd.DataFrame(data)\n",
    "normal_df['is_fraud'] = 0\n",
    "\n",
    "# Anormal (sahte) işlem verisi oluşturma\n",
    "num_fraud_transactions = 20\n",
    "fraud_data = {\n",
    "    'transaction_id': range(num_normal_transactions, num_normal_transactions + num_fraud_transactions),\n",
    "    'amount': np.random.normal(loc=500, scale=100, size=num_fraud_transactions).round(2), # Yüksek tutarlar\n",
    "    'time_of_day': np.random.choice([2, 23], size=num_fraud_transactions), # Gece saatleri\n",
    "    'terminal_id': np.random.randint(200, 210, num_fraud_transactions) # Farklı terminaller\n",
    "}\n",
    "fraud_df = pd.DataFrame(fraud_data)\n",
    "fraud_df['is_fraud'] = 1\n",
    "\n",
    "# Veri setlerini birleştirme\n",
    "df = pd.concat([normal_df, fraud_df], ignore_index=True)\n",
    "df = df.sample(frac=1, random_state=42).reset_index(drop=True) # Karıştırma\n",
    "print(\"Veri Seti Önizlemesi:\")\n",
    "print(df.head())"
   ]
  }
 ],
 "metadata": {
  "kernelspec": {
   "display_name": "base",
   "language": "python",
   "name": "python3"
  },
  "language_info": {
   "codemirror_mode": {
    "name": "ipython",
    "version": 3
   },
   "file_extension": ".py",
   "mimetype": "text/x-python",
   "name": "python",
   "nbconvert_exporter": "python",
   "pygments_lexer": "ipython3",
   "version": "3.11.5"
  }
 },
 "nbformat": 4,
 "nbformat_minor": 2
}
